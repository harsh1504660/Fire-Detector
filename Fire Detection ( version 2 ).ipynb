{
 "cells": [
  {
   "cell_type": "code",
   "execution_count": 2,
   "id": "2af85b11",
   "metadata": {},
   "outputs": [
    {
     "name": "stdout",
     "output_type": "stream",
     "text": [
      "Found 47192 images belonging to 2 classes.\n",
      "Found 651 images belonging to 2 classes.\n"
     ]
    }
   ],
   "source": [
    "import tensorflow as tf\n",
    "import keras_preprocessing\n",
    "from keras_preprocessing import image\n",
    "from keras_preprocessing.image import ImageDataGenerator\n",
    "import PIL\n",
    "import numpy as np\n",
    "import keras\n",
    "TRAINING_DIR = r\"E:\\Machine_Learning\\PROJECTS\\FireDetection\\DATA\\DATA\\image\\train\"\n",
    "training_datagen = ImageDataGenerator(rescale = 1./255,\n",
    "                                  horizontal_flip=True,\n",
    "                                  rotation_range=30,\n",
    "                                  height_shift_range=0.2,\n",
    "                                  fill_mode='nearest')\n",
    "VALIDATION_DIR = r\"E:\\Machine_Learning\\PROJECTS\\FireDetection\\DATA\\DATA\\image\\validation\\Fire-Detection\"\n",
    "validation_datagen = ImageDataGenerator(rescale = 1./255)\n",
    "\n",
    "train_generator = training_datagen.flow_from_directory(TRAINING_DIR,\n",
    "                                         target_size=(224,224),\n",
    "                                         class_mode='categorical',\n",
    "                                         batch_size = 16)\n",
    "validation_generator = validation_datagen.flow_from_directory(      \n",
    "                                           VALIDATION_DIR,\n",
    "                                           target_size=(224,224),\n",
    "                                           class_mode='categorical',\n",
    "                                           batch_size= 16)"
   ]
  },
  {
   "cell_type": "code",
   "execution_count": 2,
   "id": "3b9d0fde",
   "metadata": {},
   "outputs": [],
   "source": [
    "from tensorflow.keras.optimizers import Adam\n",
    "model = tf.keras.models.Sequential([\n",
    "tf.keras.layers.Conv2D(96, (11,11), strides=(4,4), activation='relu', input_shape=(224, 224, 3)),\n",
    "tf.keras.layers.MaxPooling2D(pool_size = (3,3), strides=(2,2)),\n",
    "tf.keras.layers.Conv2D(256, (5,5), activation='relu'),\n",
    "tf.keras.layers.MaxPooling2D(pool_size = (3,3), strides=(2,2)),\n",
    "tf.keras.layers.Conv2D(384, (5,5), activation='relu'),\n",
    "tf.keras.layers.MaxPooling2D(pool_size = (3,3), strides=(2,2)),\n",
    "tf.keras.layers.Flatten(),\n",
    "tf.keras.layers.Dropout(0.2),\n",
    "tf.keras.layers.Dense(2048, activation='relu'),\n",
    "tf.keras.layers.Dropout(0.25),\n",
    "tf.keras.layers.Dense(1024, activation='relu'),\n",
    "tf.keras.layers.Dropout(0.2),\n",
    "tf.keras.layers.Dense(2, activation='sigmoid')])\n"
   ]
  },
  {
   "cell_type": "code",
   "execution_count": 3,
   "id": "ff8d4c36",
   "metadata": {},
   "outputs": [],
   "source": [
    "model.compile(loss='binary_crossentropy',\n",
    "optimizer=Adam(learning_rate=0.0001),\n",
    "metrics=['acc'])\n"
   ]
  },
  {
   "cell_type": "code",
   "execution_count": null,
   "id": "b23d12a0",
   "metadata": {},
   "outputs": [
    {
     "name": "stdout",
     "output_type": "stream",
     "text": [
      "Epoch 1/50\n",
      "15/15 [==============================] - 46s 3s/step - loss: 0.6899 - acc: 0.5417 - val_loss: 0.7171 - val_acc: 0.2000\n",
      "Epoch 2/50\n",
      "15/15 [==============================] - 40s 3s/step - loss: 0.6918 - acc: 0.5167 - val_loss: 0.6567 - val_acc: 0.7250\n",
      "Epoch 3/50\n",
      "15/15 [==============================] - 41s 3s/step - loss: 0.6811 - acc: 0.5750 - val_loss: 0.5414 - val_acc: 0.8708\n",
      "Epoch 4/50\n",
      "15/15 [==============================] - 39s 3s/step - loss: 0.6180 - acc: 0.6583 - val_loss: 0.6285 - val_acc: 0.7375\n",
      "Epoch 5/50\n",
      "15/15 [==============================] - 39s 3s/step - loss: 0.5916 - acc: 0.6792 - val_loss: 0.4002 - val_acc: 0.8458\n",
      "Epoch 6/50\n",
      "15/15 [==============================] - 37s 2s/step - loss: 0.6905 - acc: 0.5625 - val_loss: 0.7643 - val_acc: 0.4458\n",
      "Epoch 7/50\n",
      "15/15 [==============================] - 37s 3s/step - loss: 0.6605 - acc: 0.6167 - val_loss: 0.5964 - val_acc: 0.8250\n",
      "Epoch 8/50\n",
      "15/15 [==============================] - 37s 3s/step - loss: 0.6163 - acc: 0.6792 - val_loss: 0.8357 - val_acc: 0.6583\n",
      "Epoch 9/50\n",
      "15/15 [==============================] - 37s 2s/step - loss: 0.5407 - acc: 0.7375 - val_loss: 0.8782 - val_acc: 0.6750\n",
      "Epoch 10/50\n",
      "15/15 [==============================] - 39s 3s/step - loss: 0.5143 - acc: 0.7375 - val_loss: 0.5607 - val_acc: 0.7667\n",
      "Epoch 11/50\n",
      "15/15 [==============================] - 37s 2s/step - loss: 0.5385 - acc: 0.7458 - val_loss: 0.4778 - val_acc: 0.8167\n",
      "Epoch 12/50\n",
      "15/15 [==============================] - 36s 2s/step - loss: 0.5543 - acc: 0.7708 - val_loss: 0.7069 - val_acc: 0.6958\n",
      "Epoch 13/50\n",
      "15/15 [==============================] - 37s 2s/step - loss: 0.5404 - acc: 0.7417 - val_loss: 0.4362 - val_acc: 0.8333\n",
      "Epoch 14/50\n",
      "15/15 [==============================] - 36s 2s/step - loss: 0.4808 - acc: 0.8042 - val_loss: 0.3572 - val_acc: 0.8667\n",
      "Epoch 15/50\n",
      "15/15 [==============================] - 36s 2s/step - loss: 0.4527 - acc: 0.8333 - val_loss: 0.5564 - val_acc: 0.7542\n",
      "Epoch 16/50\n",
      "15/15 [==============================] - 36s 2s/step - loss: 0.4566 - acc: 0.8208 - val_loss: 0.3007 - val_acc: 0.8708\n",
      "Epoch 17/50\n",
      "15/15 [==============================] - 36s 2s/step - loss: 0.3676 - acc: 0.8583 - val_loss: 0.5290 - val_acc: 0.8208\n",
      "Epoch 18/50\n",
      "15/15 [==============================] - 37s 2s/step - loss: 0.3475 - acc: 0.8750 - val_loss: 0.8982 - val_acc: 0.6208\n",
      "Epoch 19/50\n",
      "15/15 [==============================] - 37s 2s/step - loss: 0.4176 - acc: 0.8208 - val_loss: 0.3107 - val_acc: 0.8917\n",
      "Epoch 20/50\n",
      "15/15 [==============================] - 36s 2s/step - loss: 0.3678 - acc: 0.8583 - val_loss: 0.2792 - val_acc: 0.8792\n",
      "Epoch 21/50\n",
      "15/15 [==============================] - 41s 3s/step - loss: 0.3737 - acc: 0.8708 - val_loss: 0.2777 - val_acc: 0.8625\n",
      "Epoch 22/50\n",
      "15/15 [==============================] - 43s 3s/step - loss: 0.4036 - acc: 0.8417 - val_loss: 0.6188 - val_acc: 0.6958\n",
      "Epoch 23/50\n",
      "15/15 [==============================] - 39s 3s/step - loss: 0.4220 - acc: 0.8167 - val_loss: 0.5599 - val_acc: 0.7417\n",
      "Epoch 24/50\n",
      "15/15 [==============================] - 43s 3s/step - loss: 0.4395 - acc: 0.8292 - val_loss: 0.3362 - val_acc: 0.8542\n",
      "Epoch 25/50\n",
      "15/15 [==============================] - 42s 3s/step - loss: 0.3438 - acc: 0.8667 - val_loss: 0.2705 - val_acc: 0.8792\n",
      "Epoch 26/50\n",
      "15/15 [==============================] - 41s 3s/step - loss: 0.3312 - acc: 0.8708 - val_loss: 0.3349 - val_acc: 0.8917\n",
      "Epoch 27/50\n",
      "15/15 [==============================] - 37s 2s/step - loss: 0.4190 - acc: 0.8125 - val_loss: 0.3203 - val_acc: 0.8750\n",
      "Epoch 28/50\n",
      "15/15 [==============================] - 37s 3s/step - loss: 0.3087 - acc: 0.8792 - val_loss: 0.3829 - val_acc: 0.8542\n",
      "Epoch 29/50\n",
      "15/15 [==============================] - 37s 2s/step - loss: 0.4447 - acc: 0.8208 - val_loss: 0.3568 - val_acc: 0.8750\n",
      "Epoch 30/50\n",
      "15/15 [==============================] - 37s 2s/step - loss: 0.2844 - acc: 0.8917 - val_loss: 0.3386 - val_acc: 0.8708\n",
      "Epoch 31/50\n",
      "15/15 [==============================] - 37s 2s/step - loss: 0.4193 - acc: 0.8167 - val_loss: 0.3979 - val_acc: 0.8583\n",
      "Epoch 32/50\n",
      "15/15 [==============================] - 36s 2s/step - loss: 0.3683 - acc: 0.8833 - val_loss: 0.5039 - val_acc: 0.7792\n",
      "Epoch 33/50\n",
      "15/15 [==============================] - 36s 2s/step - loss: 0.3470 - acc: 0.8708 - val_loss: 0.4681 - val_acc: 0.8167\n",
      "Epoch 34/50\n",
      "15/15 [==============================] - 37s 2s/step - loss: 0.3329 - acc: 0.8708 - val_loss: 0.5835 - val_acc: 0.7417\n",
      "Epoch 35/50\n",
      "15/15 [==============================] - 37s 2s/step - loss: 0.3808 - acc: 0.8500 - val_loss: 0.3321 - val_acc: 0.8667\n",
      "Epoch 36/50\n",
      "15/15 [==============================] - 37s 2s/step - loss: 0.3394 - acc: 0.8625 - val_loss: 0.2503 - val_acc: 0.8833\n",
      "Epoch 37/50\n",
      "15/15 [==============================] - 36s 2s/step - loss: 0.3302 - acc: 0.8875 - val_loss: 0.2435 - val_acc: 0.9083\n",
      "Epoch 38/50\n",
      "15/15 [==============================] - 36s 2s/step - loss: 0.3406 - acc: 0.8500 - val_loss: 0.4007 - val_acc: 0.8417\n",
      "Epoch 39/50\n",
      "15/15 [==============================] - 36s 2s/step - loss: 0.3026 - acc: 0.8958 - val_loss: 0.2450 - val_acc: 0.9000\n",
      "Epoch 40/50\n",
      "15/15 [==============================] - 36s 2s/step - loss: 0.4902 - acc: 0.7750 - val_loss: 0.2960 - val_acc: 0.8875\n",
      "Epoch 41/50\n",
      "15/15 [==============================] - 37s 2s/step - loss: 0.3902 - acc: 0.8667 - val_loss: 0.4271 - val_acc: 0.8000\n",
      "Epoch 42/50\n",
      "15/15 [==============================] - 37s 2s/step - loss: 0.3885 - acc: 0.8083 - val_loss: 0.5965 - val_acc: 0.7458\n",
      "Epoch 43/50\n",
      "15/15 [==============================] - 37s 2s/step - loss: 0.3460 - acc: 0.8500 - val_loss: 0.3005 - val_acc: 0.8542\n",
      "Epoch 44/50\n",
      "15/15 [==============================] - 36s 2s/step - loss: 0.2724 - acc: 0.9000 - val_loss: 0.3157 - val_acc: 0.8708\n",
      "Epoch 45/50\n",
      "15/15 [==============================] - 37s 2s/step - loss: 0.4042 - acc: 0.8292 - val_loss: 0.4463 - val_acc: 0.8417\n",
      "Epoch 46/50\n",
      "15/15 [==============================] - 37s 2s/step - loss: 0.3171 - acc: 0.8875 - val_loss: 0.3554 - val_acc: 0.8542\n",
      "Epoch 47/50\n",
      "15/15 [==============================] - 37s 2s/step - loss: 0.3018 - acc: 0.8875 - val_loss: 0.4017 - val_acc: 0.8292\n",
      "Epoch 48/50\n",
      "15/15 [==============================] - 37s 2s/step - loss: 0.3412 - acc: 0.8625 - val_loss: 0.2437 - val_acc: 0.9000\n",
      "Epoch 49/50\n",
      "15/15 [==============================] - 36s 2s/step - loss: 0.3763 - acc: 0.8833 - val_loss: 0.2624 - val_acc: 0.8958\n",
      "Epoch 50/50\n",
      "11/15 [=====================>........] - ETA: 6s - loss: 0.2939 - acc: 0.9034"
     ]
    }
   ],
   "source": [
    "history = model.fit(\n",
    "train_generator,\n",
    "steps_per_epoch = 15,\n",
    "epochs = 50,\n",
    "validation_data = validation_generator,\n",
    "validation_steps = 15\n",
    ")"
   ]
  },
  {
   "cell_type": "code",
   "execution_count": 6,
   "id": "0acff728",
   "metadata": {},
   "outputs": [
    {
     "name": "stdout",
     "output_type": "stream",
     "text": [
      "harsh\n"
     ]
    }
   ],
   "source": [
    "print(\"harsh\")"
   ]
  },
  {
   "cell_type": "code",
   "execution_count": 32,
   "id": "d1494e0b",
   "metadata": {},
   "outputs": [
    {
     "name": "stdout",
     "output_type": "stream",
     "text": [
      "1/1 [==============================] - 1s 694ms/step\n",
      "True 0.5580318\n"
     ]
    },
    {
     "data": {
      "text/plain": [
       "array([[0.5580318, 0.445136 ]], dtype=float32)"
      ]
     },
     "execution_count": 32,
     "metadata": {},
     "output_type": "execute_result"
    }
   ],
   "source": [
    "path=r\"E:\\Machine_Learning\\PROJECTS\\FireDetection\\DATA\\DATA\\image\\validation\\Fire-Detection\\Fire\\109.jpg\"\n",
    "img = image.load_img(path,target_size = (224,224))\n",
    "x = image.img_to_array(img)\n",
    "x=np.expand_dims(x,axis=0)/255\n",
    "classes = model.predict(x)\n",
    "print(np.argmax(classes[0])==0,max(classes[0]))\n",
    "classes"
   ]
  },
  {
   "cell_type": "code",
   "execution_count": 48,
   "id": "1474dc17",
   "metadata": {},
   "outputs": [
    {
     "name": "stdout",
     "output_type": "stream",
     "text": [
      "FIRE\n"
     ]
    }
   ],
   "source": [
    "if np.argmax(classes[0])==0:\n",
    "    print(\"FIRE\")\n",
    "else :\n",
    "    print(\"NOT FIRE\")"
   ]
  },
  {
   "cell_type": "code",
   "execution_count": 8,
   "id": "07bdde26",
   "metadata": {},
   "outputs": [],
   "source": [
    "import matplotlib.pyplot as plt"
   ]
  },
  {
   "cell_type": "code",
   "execution_count": 1,
   "id": "7f6725ba",
   "metadata": {},
   "outputs": [
    {
     "data": {
      "text/plain": [
       "'\"import keras\\nfrom matplotlib import pyplot as plt\\n\\nplt.plot(history.history[\\'acc\\'])\\nplt.plot(history.history[\\'val_acc\\'])\\nplt.title(\\'model accuracy\\')\\nplt.ylabel(\\'accuracy\\')\\nplt.xlabel(\\'epoch\\')\\nplt.legend([\\'train\\', \\'val\\'], loc=\\'upper left\\')\\nplt.show()'"
      ]
     },
     "execution_count": 1,
     "metadata": {},
     "output_type": "execute_result"
    }
   ],
   "source": [
    "import keras\n",
    "from matplotlib import pyplot as plt\n",
    "\n",
    "plt.plot(history.history['acc'])\n",
    "plt.plot(history.history['val_acc'])\n",
    "plt.title('model accuracy')\n",
    "plt.ylabel('accuracy')\n",
    "plt.xlabel('epoch')\n",
    "plt.legend(['train', 'val'], loc='upper left')\n",
    "plt.show()"
   ]
  },
  {
   "cell_type": "code",
   "execution_count": 10,
   "id": "43d7aef6",
   "metadata": {},
   "outputs": [
    {
     "name": "stdout",
     "output_type": "stream",
     "text": [
      "dict_keys(['loss', 'acc', 'val_loss', 'val_acc'])\n"
     ]
    }
   ],
   "source": [
    "print(history.history.keys())"
   ]
  },
  {
   "cell_type": "code",
   "execution_count": 34,
   "id": "013ced56",
   "metadata": {},
   "outputs": [
    {
     "data": {
      "image/png": "[encoded data removed]",
      "text/plain": [
       "<Figure size 640x480 with 1 Axes>"
      ]
     },
     "metadata": {},
     "output_type": "display_data"
    }
   ],
   "source": [
    "plt.plot(history.history['loss'])\n",
    "plt.plot(history.history['val_loss'])\n",
    "plt.title('model loss')\n",
    "plt.ylabel('loss')\n",
    "plt.xlabel('epoch')\n",
    "plt.legend(['train', 'val'], loc='upper left')\n",
    "plt.show()"
   ]
  },
  {
   "cell_type": "code",
   "execution_count": 35,
   "id": "d3066040",
   "metadata": {},
   "outputs": [],
   "source": [
    "#model.save(\"FireDetector-v3.h5\")"
   ]
  },
  {
   "cell_type": "code",
   "execution_count": 3,
   "id": "bc7edc97",
   "metadata": {},
   "outputs": [],
   "source": [
    "reconstructed_model = keras.models.load_model(\"FireDetector-v3.h5\")"
   ]
  },
  {
   "cell_type": "code",
   "execution_count": 26,
   "id": "b3a21139",
   "metadata": {},
   "outputs": [
    {
     "name": "stdout",
     "output_type": "stream",
     "text": [
      "1/1 [==============================] - 0s 83ms/step\n",
      "False 0.7189219\n",
      "NOT FIRE\n"
     ]
    }
   ],
   "source": [
    "path=r\"E:\\Machine_Learning\\PROJECTS\\FireDetection\\test\\test7.jfif\"\n",
    "img = image.load_img(path,target_size = (224,224))\n",
    "x = image.img_to_array(img)\n",
    "x=np.expand_dims(x,axis=0)/255\n",
    "classes = reconstructed_model.predict(x)\n",
    "print(np.argmax(classes[0])==0,max(classes[0]))\n",
    "classes\n",
    "\n",
    "\n",
    "if np.argmax(classes[0])==0:\n",
    "    print(\"FIRE\")\n",
    "else :\n",
    "    print(\"NOT FIRE\")"
   ]
  },
  {
   "cell_type": "code",
   "execution_count": null,
   "id": "316bfc9b",
   "metadata": {},
   "outputs": [],
   "source": []
  }
 ],
 "metadata": {
  "kernelspec": {
   "display_name": "Python 3 (ipykernel)",
   "language": "python",
   "name": "python3"
  },
  "language_info": {
   "codemirror_mode": {
    "name": "ipython",
    "version": 3
   },
   "file_extension": ".py",
   "mimetype": "text/x-python",
   "name": "python",
   "nbconvert_exporter": "python",
   "pygments_lexer": "ipython3",
   "version": "3.10.11"
  }
 },
 "nbformat": 4,
 "nbformat_minor": 5
}
